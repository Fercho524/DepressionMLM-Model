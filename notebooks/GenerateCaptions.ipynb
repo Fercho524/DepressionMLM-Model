{
 "cells": [
  {
   "cell_type": "code",
   "execution_count": 1,
   "metadata": {},
   "outputs": [
    {
     "name": "stderr",
     "output_type": "stream",
     "text": [
      "/home/fercho/Datos/School/TTCode/venv/lib/python3.11/site-packages/tqdm/auto.py:21: TqdmWarning: IProgress not found. Please update jupyter and ipywidgets. See https://ipywidgets.readthedocs.io/en/stable/user_install.html\n",
      "  from .autonotebook import tqdm as notebook_tqdm\n",
      "/home/fercho/Datos/School/TTCode/venv/lib/python3.11/site-packages/transformers/tokenization_utils_base.py:1617: FutureWarning: `clean_up_tokenization_spaces` was not set. It will be set to `True` by default. This behavior will be deprecated in transformers v4.45, and will be then set to `False` by default. For more details check this issue: https://github.com/huggingface/transformers/issues/31884\n",
      "  warnings.warn(\n",
      "The `load_in_4bit` and `load_in_8bit` arguments are deprecated and will be removed in the future versions. Please, pass a `BitsAndBytesConfig` object in `quantization_config` argument instead.\n",
      "Loading checkpoint shards: 100%|██████████| 2/2 [01:18<00:00, 39.01s/it]\n"
     ]
    }
   ],
   "source": [
    "import os\n",
    "import json\n",
    "from PIL import Image\n",
    "\n",
    "import torch\n",
    "\n",
    "from transformers import AutoProcessor\n",
    "from transformers import Blip2ForConditionalGeneration\n",
    "\n",
    "\n",
    "device = \"cuda\" if torch.cuda.is_available() else \"cpu\"\n",
    "\n",
    "\n",
    "def load_model():\n",
    "  processor = AutoProcessor.from_pretrained(\n",
    "      \"Salesforce/blip2-opt-2.7b\"\n",
    "  )\n",
    "  model = Blip2ForConditionalGeneration.from_pretrained(\n",
    "      \"Salesforce/blip2-opt-2.7b\",\n",
    "      device_map=\"auto\",\n",
    "      load_in_8bit=True\n",
    "  )\n",
    "\n",
    "  return processor,model\n",
    "\n",
    "\n",
    "def getcaption(file,processor,model):\n",
    "  image= Image.open(file).convert('RGB')\n",
    "  inputs = processor(image, return_tensors=\"pt\").to(device, torch.float16)\n",
    "  generated_ids = model.generate(**inputs, max_new_tokens=20)\n",
    "  generated_text = processor.batch_decode(generated_ids, skip_special_tokens=True)[0].strip()\n",
    "  return generated_text\n",
    "\n",
    "\n",
    "processor,model=load_model()\n",
    "users_dir = \"Dataset\""
   ]
  },
  {
   "cell_type": "code",
   "execution_count": null,
   "metadata": {},
   "outputs": [],
   "source": [
    "# Directorio principal de los usuarios\n",
    "users_dir = \"Dataset\"\n",
    "\n",
    "# Recorrer cada subdirectorio (usuario) en Users\n",
    "for username in os.listdir(users_dir):\n",
    "    user_path = os.path.join(users_dir, username)\n",
    "    \n",
    "    # Verificar si es un directorio y si existe el archivo user.json\n",
    "    if os.path.isdir(user_path):\n",
    "        user_json_path = os.path.join(user_path, 'user.json')\n",
    "        \n",
    "        if os.path.exists(user_json_path):\n",
    "            # Cargar el archivo user.json\n",
    "            with open(user_json_path, 'r', encoding='utf-8') as f:\n",
    "                user_data = json.load(f)\n",
    "                print(f\"Username {user_data['username']}\")\n",
    "            \n",
    "            # Procesar cada publicación del usuario\n",
    "            for post in user_data[\"posts\"]:\n",
    "                image_path = os.path.join(user_path, post[\"image_path\"])\n",
    "                \n",
    "                # Generar la descripción de la imagen si existe y no tiene ya un description\n",
    "                if os.path.isfile(image_path) and post[\"image_description\"] == \"None\":\n",
    "                    try:\n",
    "                        post[\"image_description\"] = getcaption(image_path, processor, model)\n",
    "                    except Exception as e:\n",
    "                        print(f\"Error al procesar la imagen {image_path}: {e}\")\n",
    "                        post[\"image_description\"] = \"Error en la generación de descripción\"\n",
    "            \n",
    "            # Guardar de nuevo el archivo user.json con las descripciones actualizadas\n",
    "            with open(user_json_path, 'w', encoding='utf-8') as f:\n",
    "                json.dump(user_data, f, ensure_ascii=False, indent=4)\n",
    "\n",
    "print(\"Descripciones de imágenes generadas y guardadas exitosamente en los archivos JSON.\")"
   ]
  }
 ],
 "metadata": {
  "kernelspec": {
   "display_name": ".venv",
   "language": "python",
   "name": "python3"
  },
  "language_info": {
   "codemirror_mode": {
    "name": "ipython",
    "version": 3
   },
   "file_extension": ".py",
   "mimetype": "text/x-python",
   "name": "python",
   "nbconvert_exporter": "python",
   "pygments_lexer": "ipython3",
   "version": "3.11.9"
  }
 },
 "nbformat": 4,
 "nbformat_minor": 2
}
