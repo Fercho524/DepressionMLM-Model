{
 "cells": [
  {
   "cell_type": "code",
   "execution_count": 21,
   "metadata": {},
   "outputs": [],
   "source": [
    "import pickle\n",
    "import pandas as pd\n",
    "\n",
    "dataset_1 = open('dataset_1.pkl',\"rb\")\n",
    "dataset_2 = open('dataset_2.pkl',\"rb\")\n",
    "\n",
    "data_1 =pickle.load(dataset_1)\n",
    "data_2 =pickle.load(dataset_2)\n",
    "\n",
    "dataset = data_1 + data_2\n",
    "\n",
    "prompts = [x[\"input\"] for x in dataset]\n",
    "response= [x[\"output\"] for x in dataset]\n",
    "\n",
    "df = pd.DataFrame({\n",
    "    \"prompt\" : prompts,\n",
    "    \"response\" : response\n",
    "})\n",
    "\n",
    "\n",
    "def prepare_train_datav2(data):\n",
    "    SYSTEM_PROMPT = \"\"\"Bienvenido, Senti. Tu objetivo es brindar asistencia psicológica de manera respetuosa y empática, siempre priorizando el bienestar emocional de los usuarios. Recuerda actuar con responsabilidad en todo momento, siendo comprensivo, manteniendo la confidencialidad y limitándote a proporcionar apoyo sin realizar diagnósticos médicos ni juicios. Tu papel es escuchar, ofrecer consuelo y, cuando sea necesario, recomendar que el usuario busque ayuda de un profesional calificado para un tratamiento adecuado.\"\"\"\n",
    "\n",
    "    # Convert the data to a Pandas DataFrame\n",
    "    data_df = pd.DataFrame(data)\n",
    "    # Create a new column called \"text\"\n",
    "    data_df[\"text\"] = data_df[[\"prompt\", \"response\"]].apply(lambda x: \"<|im_start|>system\\n\"+SYSTEM_PROMPT+\n",
    "    \"<|im_end|>\\n<|im_start|>user\\n\" + x[\"prompt\"] + \" <|im_end|>\\n<|im_start|>assistant\\n\" + x[\"response\"] + \"<|im_end|>\\n\", axis=1)\n",
    "    # Create a new Dataset from the DataFrame\n",
    "    data_df.to_csv(\"data/train.csv\",index=False)\n",
    "\n",
    "prepare_train_datav2(df)"
   ]
  },
  {
   "cell_type": "code",
   "execution_count": null,
   "metadata": {},
   "outputs": [],
   "source": [
    "def prepare_prompt(texto):\n",
    "    SYSTEM_PROMPT = \"\"\"Bienvenido, Senti. Tu objetivo es brindar asistencia psicológica de manera respetuosa y empática, siempre priorizando el bienestar emocional de los usuarios. Recuerda actuar con responsabilidad en todo momento, siendo comprensivo, manteniendo la confidencialidad y limitándote a proporcionar apoyo sin realizar diagnósticos médicos ni juicios. Tu papel es escuchar, ofrecer consuelo y, cuando sea necesario, recomendar que el usuario busque ayuda de un profesional calificado para un tratamiento adecuado.\"\"\"\n",
    "\n",
    "    # Convert the data to a Pandas DataFrame\n",
    "    text_prompt = \"<|im_start|>system\\n\" + SYSTEM_PROMPT + \"<|im_end|>\\n<|im_start|>user\\n\" + texto + \"<|im_end|>\\n\"\n",
    "    return text_prompt"
   ]
  }
 ],
 "metadata": {
  "kernelspec": {
   "display_name": "venv",
   "language": "python",
   "name": "python3"
  },
  "language_info": {
   "codemirror_mode": {
    "name": "ipython",
    "version": 3
   },
   "file_extension": ".py",
   "mimetype": "text/x-python",
   "name": "python",
   "nbconvert_exporter": "python",
   "pygments_lexer": "ipython3",
   "version": "3.11.9"
  }
 },
 "nbformat": 4,
 "nbformat_minor": 2
}
